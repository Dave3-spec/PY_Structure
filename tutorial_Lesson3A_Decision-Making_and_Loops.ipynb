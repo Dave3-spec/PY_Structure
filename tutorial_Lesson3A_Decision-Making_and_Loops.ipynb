{
 "cells": [
  {
   "cell_type": "markdown",
   "metadata": {},
   "source": [
    "# Session 3\n",
    "\n",
    "At the end of the Lecture 3 student should be able to :\n",
    "\n",
    "<ul>\n",
    "    <li>Understand and Use structures such as the do-loops and conditions in Python Language </li>\n",
    "    <li>Understand how function works and building of own fuctions</li>\n",
    "    <li> Should be able to combined the above to solve or resolve Climate or any problem </li>\n",
    "    \n",
    "</ul>\n",
    "\n",
    "\n"
   ]
  },
  {
   "cell_type": "markdown",
   "metadata": {},
   "source": [
    "<h1 style=\"color:#f00\">Structures in Python</h1>\n",
    "\n",
    "<h2> Conditional Statement</h2>\n",
    "<h3>Boolean Expressions</h3>\n",
    "\n",
    "<p>Conditional statement consist of a test and one or more actions to be executed. The action in these action statement execute when the test evalutes to be True. However, in Python every value can be interpreted as a boolean value, regardless of its data type. i.e., when you test a condition, and your test is of a value that is not True or False, it will still be interpreted as either True or False.</p>\n",
    "<h3>Comparisons</h3>\n",
    "<p>Comparison is one of the common boolean expressions and it consist of two values with a comparison operator between them. This expression evalutes to True or False</p>\n",
    "<ul>\n",
    "    <li> less than   </li>\n",
    "    <li> less than or equal to</li>\n",
    "    <li> equal to</li>\n",
    "    <li> greater than or equal to </li>\n",
    "    <li> greater than</li>\n",
    "    <li> not equal</li>\n",
    "    \n",
    "    \n",
    "</ul>\n",
    "<h4>Logical Operators</h4>\n",
    "<p> Boolean expressions can be combined with logical operators and used in an if construct. There are three logical operators;</p>\n",
    "<ul>\n",
    "    <li> And  </li>\n",
    "    <li> Or</li>\n",
    "    <li> not</li>  \n",
    "    \n",
    "</ul>\n",
    "<p>\n",
    " Decision making is anticipation of conditions occurring while execution of the program and specifying actions taken according to the conditions. Decision structures evaluate multiple expressions which produce TRUE or FALSE as outcome. You need to determine which action to take or which statements to execute if outcome is TRUE or FALSE otherwise.\n",
    "</p>\n",
    "\n",
    "<p> The advantages of Python programming spans, but is not limited to the following:</p>\n",
    "<ul>\n",
    "    <li>If statements (One way Decision)</li>\n",
    "    <li>If ....else statements (Two way decision & Multiple decision)</li>\n",
    "    <li>Nested If statement</li>\n",
    "\n",
    "</ul>\n",
    "\n",
    "# One way Decision"
   ]
  },
  {
   "cell_type": "code",
   "execution_count": null,
   "metadata": {
    "scrolled": true
   },
   "outputs": [],
   "source": [
    "# Examples\n",
    "x = 5\n",
    "if x == 5:                 \n",
    "    print( \"x equals 5\" )\n",
    "if x > 4:\n",
    "    print( \"x is greater than 4\" )\n",
    "if x >= 5:\n",
    "    print( \"x is greater than or equal to 5\" )\n",
    "if x < 6:\n",
    "    print( \"x is less than 6\" )\n",
    "if x <= 5:\n",
    "    print( \"x is less than or equal to 5\" )\n",
    "if x != 6 :\n",
    "    print( \"x does not equal 6\" )"
   ]
  },
  {
   "cell_type": "markdown",
   "metadata": {},
   "source": [
    "# Nested If Statements"
   ]
  },
  {
   "cell_type": "code",
   "execution_count": null,
   "metadata": {
    "scrolled": true
   },
   "outputs": [],
   "source": [
    "grade = 100\n",
    "if grade > 60:\n",
    "    print(\"\\tStudent scored a passing grade\")\n",
    "    if grade >= 90:\n",
    "        print(\"\\tpassed with A\")\n",
    "        if grade >= 96:\n",
    "            print(\"\\tpassed with A+\")"
   ]
  },
  {
   "cell_type": "markdown",
   "metadata": {},
   "source": [
    "#  Two way Decision & Multiple  Decision\n",
    "Often a decision branches, e.g., if a certain condition arises, you want to take a particular action, but if it does not arise, you want to take another action. This is supported by Python in the form of an expansion to the if statement that adds an else branch. In other cases too there are lots of decision which need to be taken."
   ]
  },
  {
   "cell_type": "code",
   "execution_count": null,
   "metadata": {
    "scrolled": true
   },
   "outputs": [],
   "source": [
    "# syntax involves if,elif and else\n",
    "# with multiple decision the number of elif depends on the number of decision to be taken\n",
    "\n",
    "###############################################\n",
    "#######   Two way Decision ####################\n",
    "###############################################\n",
    "\n",
    "Name = input(\"enter your name: \")\n",
    "if Name == 'John':\n",
    "    print(\"You are welcome\",Name)    \n",
    "else:\n",
    "    print (\" I don't know you please\")\n",
    "    \n",
    "\n",
    "print(\"Two decision execution complete\")\n",
    "print(\"####################################\")\n",
    "print(\"Next is Multiple Decision\")\n",
    "\n",
    "\n",
    "\n",
    "###############################################\n",
    "#####   Multiple Decision with if      ########\n",
    "###############################################\n",
    "num = int(input(\"enter a number pls: \"))\n",
    "if num == 0:\n",
    "    print(\"num is zero\")  \n",
    "elif num > 0 and num < 20:\n",
    "    print (\"num is between 0 and 20\")  \n",
    "elif num > 20 and num < 45:\n",
    "    print (\"num is between 20 and 45\")  \n",
    "else:\n",
    "    print (\" I don't know the number\")"
   ]
  },
  {
   "cell_type": "markdown",
   "metadata": {},
   "source": [
    "# Loops\n",
    "Humans hate too much repetition. Therefore, repetitious tasks should be performed by computers. All programming languages support repetitions. The general class of programming constructs that allow the definition of repetitions are called \"iterations.” A term which is even more common for such tasks is “loops.” In general, statements are executed sequentially. Programming languages provide various control structures that allow for more complicated execution paths. A loop statement allows us to execute a statement or group of statements multiple times.\n",
    "\n",
    "Types of loops :\n",
    " 1. While Loop\n",
    " 2. For Loop\n",
    " 3. Nested Loop\n",
    "\n",
    "# While Loop\n",
    "A statement or group of statement in a while loop execute if the condition of the loop is True and stops if the condition no longer True. The condition is tested before the loop body executes.\n",
    "<br />\n",
    "<h4 style=\"color:#00f\"><big> While loop syntax </big></h4>\n",
    "while expression:\n",
    "     statement(s)\n",
    "<br />"
   ]
  },
  {
   "cell_type": "code",
   "execution_count": null,
   "metadata": {
    "scrolled": true
   },
   "outputs": [],
   "source": [
    "# while < expression>:\n",
    "#       <statement(s)>\n",
    "\n",
    "x = 1\n",
    "while x < 6:\n",
    "    print(x)\n",
    "    x = x + 1"
   ]
  },
  {
   "cell_type": "code",
   "execution_count": null,
   "metadata": {},
   "outputs": [],
   "source": [
    "x = 1\n",
    "while x < 6:\n",
    "    print(x)\n",
    "    x = x + 1"
   ]
  },
  {
   "cell_type": "code",
   "execution_count": null,
   "metadata": {
    "scrolled": true
   },
   "outputs": [],
   "source": [
    "x = 1 \n",
    "while x < 8:\n",
    "    print(\"x is \",x)\n",
    "    x += 1\n",
    "else:\n",
    "    print(\"x is no longer < 8\")"
   ]
  },
  {
   "cell_type": "markdown",
   "metadata": {},
   "source": [
    "# Exercise 3.1\n",
    "\n",
    "Using while loop, find the equvalence of these Celcius degree values $ C $ where $C < 70 $ in Fahrenheit_degrees $F$. For each $C$ show it corresponding value $F$.\n",
    "<p> $C_o = 10$ </p>\n",
    "<p> C should have an interval of 5 </p>\n",
    "\n",
    "$$ F= \\frac{9C}{5}+ 32$$\n"
   ]
  },
  {
   "cell_type": "code",
   "execution_count": null,
   "metadata": {
    "scrolled": true
   },
   "outputs": [],
   "source": [
    "C = 10                   # Initial value of C\n",
    "dC=  5                     # Interval of C values\n",
    "\n",
    "# State the condition for the While loop\n",
    "while C <70: #condition: \n",
    "    \n",
    "    # Action to perform when condition is True\n",
    "    F = (9*C)/5+32# Action statement\n",
    "    print(C,F)# Display result of both temperature\n",
    "    C=C+dC\n",
    "    # Iterator\n",
    "    \n",
    "   \n",
    "    \n",
    "    "
   ]
  },
  {
   "cell_type": "code",
   "execution_count": null,
   "metadata": {},
   "outputs": [],
   "source": []
  },
  {
   "cell_type": "code",
   "execution_count": null,
   "metadata": {},
   "outputs": [],
   "source": []
  },
  {
   "cell_type": "markdown",
   "metadata": {},
   "source": [
    "# For Loop\n",
    "The Nature of For Loops. When data are collected in a list, we often want to perform the same operations on each element in the list. We then need to walk through all list elements. Computer languages have a special construct for doing this conveniently, and this construct is in Python and many other languages called a for loop.\n",
    "<p>The for-loop allows to iterate over a sequence (this could be a string or a list, for example). Here\n",
    "is an example:</p>"
   ]
  },
  {
   "cell_type": "code",
   "execution_count": null,
   "metadata": {
    "scrolled": true
   },
   "outputs": [],
   "source": [
    "# Example with a string\n",
    "Language = \"PYTHON PROGRAMMING\"\n",
    "for l in Language:\n",
    "    print(l)"
   ]
  },
  {
   "cell_type": "code",
   "execution_count": null,
   "metadata": {
    "scrolled": true
   },
   "outputs": [],
   "source": [
    "# Example with list of strings\n",
    "Animals = [\"Dog\",\"Goat\",\"Cat\",\"Fish\"]\n",
    "for a in Animals:\n",
    "    print(a)"
   ]
  },
  {
   "cell_type": "code",
   "execution_count": null,
   "metadata": {},
   "outputs": [],
   "source": [
    "# Using for loop with ranges\n",
    "#for x in range( 45 ):\n",
    " #   print( x )\n",
    "    \n",
    "for x in range(1,20,2):\n",
    "    print(x)"
   ]
  },
  {
   "cell_type": "markdown",
   "metadata": {},
   "source": [
    "# Exercise 3.2\n",
    "Try using the for loop for exercise 3.1 above"
   ]
  },
  {
   "cell_type": "code",
   "execution_count": null,
   "metadata": {
    "scrolled": true
   },
   "outputs": [],
   "source": []
  },
  {
   "cell_type": "markdown",
   "metadata": {},
   "source": [
    "# Nested For Loop\n"
   ]
  },
  {
   "cell_type": "markdown",
   "metadata": {},
   "source": [
    "We previously looked at loops in general thus the 'for' and the 'while' loop. However, sometimes you need to put nest a loop to be able to achieve what you want. As simple as it name, nesting a loop means simply having a loop (let's call it outer loop) that has inside its commands nother loop (let's call it inner loop). For example, the code appearing below shows two nested loops, an outer for loop over the values of i and an inner for loop over the values of j to multiply inside the inner loop all nine elements of a 3x3 matrix A by a factor f that changes according to the outer loop iteration"
   ]
  },
  {
   "cell_type": "code",
   "execution_count": null,
   "metadata": {},
   "outputs": [],
   "source": [
    "# Example\n",
    "\n",
    "A = [1,2,3,4,5,6,7,8,9,10]\n",
    "B = [5]\n",
    "for a in A:\n",
    "    for b in B:\n",
    "        y= a * b\n",
    "        print(b,'*',a,'=',y)"
   ]
  },
  {
   "cell_type": "code",
   "execution_count": null,
   "metadata": {},
   "outputs": [],
   "source": [
    "N = [2,4]\n",
    "M = [3,5]\n",
    "O = [1,2]\n",
    "\n",
    "for n in N:\n",
    "    for m in M:\n",
    "        u = n + m + o\n",
    "            print(n,'+',m,'+',o,'=',u)"
   ]
  },
  {
   "cell_type": "markdown",
   "metadata": {},
   "source": [
    "# Loop Control Statement\n",
    "<p> In python language, loop statements provides you the capacity to over and again run a statement or group of statements.  In any case, once in a while you might need to exit the loop completely or skip certain statement in the loop. Control Statement here, help to change or control the progression of loop execution dependent on the some particular condition</p>\n",
    "<p> There are three extra statements that help you control the flow in a loop. They are: </p>\n",
    "<ul>\n",
    "    <li>Break</li>\n",
    "    <li>Continue</li>\n",
    "    <li>Pass</li>\n",
    "    <li>Else</li>\n",
    "    \n",
    "\n",
    "</ul>\n",
    "<p1>They work with both while and for loops.</p1>\n",
    "\n",
    " "
   ]
  },
  {
   "cell_type": "markdown",
   "metadata": {},
   "source": [
    "<h1>BREAK</h1>\n",
    "The break statement terminates the loop containing it. Control of the program flows to the statement immediately after the body of the loop. If break statement is inside a nested loop (loop inside another loop), break will terminate the innermost loop\n",
    " "
   ]
  },
  {
   "cell_type": "code",
   "execution_count": null,
   "metadata": {},
   "outputs": [],
   "source": [
    "names = ['John','Gideon','Elvis', 'Grace', 'Anthonia','Rosemary']\n",
    "\n",
    "for name in names:\n",
    "    if name == 'Anthonia':\n",
    "        print(name,\"'I have found her'\")\n",
    "        break\n",
    "    #print(name)"
   ]
  },
  {
   "cell_type": "markdown",
   "metadata": {},
   "source": [
    "<h1>Continue</h1>\n",
    "The continue statement in Python returns the control to the beginning of the while loop. The continue statement rejects all the remaining statements in the current iteration of the loop and moves the control back to the top of the loop."
   ]
  },
  {
   "cell_type": "code",
   "execution_count": null,
   "metadata": {},
   "outputs": [],
   "source": [
    "ctr = 0\n",
    "\n",
    "for ctr in range(10):\n",
    "    ctr = ctr + 1\n",
    "    \n",
    "    if ctr == 5:\n",
    "        print(\"5 is skipped\")\n",
    "       \n",
    "        continue    # continue here\n",
    "        print (\"This won't be printed too.\")\n",
    "    print('Number is ' + str(ctr))\n",
    "print('Out of loop')"
   ]
  },
  {
   "cell_type": "markdown",
   "metadata": {},
   "source": [
    "<h1> Pass</h1>\n",
    "<p>The pass statement does not perform any action, It serves as a placeholder in Python. It can be used when a statement is required syntactically but the program requires no action . Python has a requirement that code blocks after if, except, def, class cannot be empty either than that the interpreter will produce 'IndentationError' if the above mention code blocks are left empty.</p>"
   ]
  },
  {
   "cell_type": "code",
   "execution_count": null,
   "metadata": {},
   "outputs": [],
   "source": [
    "# Example 1\n",
    "x='Kweku'\n",
    "if x==\"Ama\":\n",
    "    pass\n",
    "\n",
    "#example 2\n",
    "\n",
    "def myname(name):\n",
    "    pass"
   ]
  },
  {
   "cell_type": "code",
   "execution_count": null,
   "metadata": {},
   "outputs": [],
   "source": [
    "#Example two\n",
    "\n",
    "numbers = [ 1, 2, 4, 3, 6, 5, 7, 10, 9 ]\n",
    "#loop through the numbers\n",
    "for number in numbers:\n",
    "    #check if the number is odd numbers\n",
    "    if number % 2 != 0:\n",
    "        #if even, then pass ( No operation )\n",
    "        pass\n",
    "    else:\n",
    "        #print the prime numbers\n",
    "        print ('number is:', number)"
   ]
  },
  {
   "cell_type": "markdown",
   "metadata": {},
   "source": [
    "<h1>ELSE</h1>\n",
    "Just like with an if statement, you can add an else statement to the end of a while or\n",
    "for loop. The code block for the else is executed whenever the loop ends, i.e., when the\n",
    "boolean expression for the while loop evaluates to False, or when the last item of the\n",
    "collection of the for loop is processed. Here is an example for a while loop:\n",
    " "
   ]
  },
  {
   "cell_type": "code",
   "execution_count": null,
   "metadata": {
    "scrolled": true
   },
   "outputs": [],
   "source": [
    "# This example involve a list of food, an iput is received and then loop through the menu to find in food is there\n",
    "\n",
    "menu = {'salad': 'vitamin', 'potato': 'carbohydrate', 'chicken': 'protein', 'yogurt': 'mineral'}\n",
    "while True:   \n",
    "    menu_choice = input(\"what would you like to have?: \")   \n",
    "    if menu_choice == 'none':\n",
    "        break   \n",
    "    if menu_choice in menu:\n",
    "        food = menu.get(menu_choice)\n",
    "        print(food) \n",
    "    else: \n",
    "        print (\"we don't have: \" + menu_choice)"
   ]
  },
  {
   "cell_type": "code",
   "execution_count": null,
   "metadata": {},
   "outputs": [],
   "source": []
  }
 ],
 "metadata": {
  "kernelspec": {
   "display_name": "Python 3",
   "language": "python",
   "name": "python3"
  },
  "language_info": {
   "codemirror_mode": {
    "name": "ipython",
    "version": 3
   },
   "file_extension": ".py",
   "mimetype": "text/x-python",
   "name": "python",
   "nbconvert_exporter": "python",
   "pygments_lexer": "ipython3",
   "version": "3.7.1"
  }
 },
 "nbformat": 4,
 "nbformat_minor": 2
}
