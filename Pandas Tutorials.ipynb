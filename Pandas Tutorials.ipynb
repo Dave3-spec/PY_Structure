{
 "cells": [
  {
   "cell_type": "markdown",
   "metadata": {},
   "source": [
    "# Module four"
   ]
  },
  {
   "cell_type": "markdown",
   "metadata": {},
   "source": [
    "At the end of this module, participant should be able to :\n",
    "  - Read external or internally generated data into DataFrames\n",
    "  - Column Selection, Addition and Deletion\n",
    "  - Sort or group data based on columns\n",
    "  \n",
    " "
   ]
  },
  {
   "cell_type": "markdown",
   "metadata": {},
   "source": [
    "### Pandas\n"
   ]
  },
  {
   "cell_type": "markdown",
   "metadata": {},
   "source": [
    "Pandas is a Python package providing fast, flexible, and expressive data structures designed to make working with\n",
    "“relational” or “labeled” data both easy and intuitive. It aims to be the fundamental high-level building block for doing\n",
    "practical, real world data analysis in Python.\n",
    "\n",
    "For data scientists, working with data is typically divided into multiple stages: munging and\n",
    "cleaning data, analyzing / modeling it, then organizing the results of the analysis into a form suitable for plotting or\n",
    "tabular display. pandas is the ideal tool for all of these tasks.\n"
   ]
  },
  {
   "cell_type": "code",
   "execution_count": null,
   "metadata": {},
   "outputs": [],
   "source": [
    "import pandas as pd\n",
    "\n",
    "import numpy as np"
   ]
  },
  {
   "cell_type": "markdown",
   "metadata": {},
   "source": [
    "### DataFrame \n",
    "\n",
    "DataFrame is a 2-dimensional labeled data structure with columns of potentially different types. You can think of it\n",
    "like a spreadsheet or SQL table, or a dict of Series objects. It is generally the most commonly used pandas object.\n",
    "Like Series, DataFrame accepts many different kinds of input:\n",
    "\n",
    "  - Dict of 1D ndarrays, lists, dicts, or Series\n",
    "  - 2-D numpy.ndarray\n",
    "  - Structured or record ndarray\n",
    "  - A Series\n",
    "  - Another DataFrame\n"
   ]
  },
  {
   "cell_type": "code",
   "execution_count": null,
   "metadata": {},
   "outputs": [],
   "source": [
    "level_1 = {'Name':['Kelvin','Doris','Anthony','Joachim','Rosemary','Ellen'],\n",
    "           'Age': [21,18,20,19,19,22],\n",
    "            'School':['Achimota SHS','Wesley Girls','St. Augustine College',\n",
    "                      'Mfantsipim','Accra Girls','Wesley Grammar']}"
   ]
  },
  {
   "cell_type": "code",
   "execution_count": null,
   "metadata": {},
   "outputs": [],
   "source": [
    "# Generating a Pandas Dataframe element from the dictionary obtained above\n",
    "df1 = pd.DataFrame(level_1)\n",
    "df1"
   ]
  },
  {
   "cell_type": "code",
   "execution_count": null,
   "metadata": {},
   "outputs": [],
   "source": [
    "# Creating a Pandas DataFrame using input data from Series\n",
    "\n",
    "level_2 = {'Name' : pd.Series(['Kelvin','Doris','Anthony','Joachim','Rosemary','Ellen']),\n",
    "           'Age' : pd.Series([21,18,20,19,19,22]),\n",
    "            'School': pd.Series(['Achimota SHS','Wesley Girls','St. Augustine College',\n",
    "                      'Mfantsipim','Accra Girls','Wesley Grammar'])}\n"
   ]
  },
  {
   "cell_type": "code",
   "execution_count": null,
   "metadata": {},
   "outputs": [],
   "source": [
    "level_2\n",
    "df2 = pd.DataFrame(level_2)\n",
    "df2"
   ]
  },
  {
   "cell_type": "markdown",
   "metadata": {},
   "source": [
    "### Indexing and Selecting Data\n",
    "\n",
    "There are different choices or ways by which an element in a Pandas DataFrame can be selected. A few of these procedures includes the following which we will look at in this session:\n",
    "  - Selection by Position\n",
    "  - Selection by Label\n",
    "  - Selection by Attribution"
   ]
  },
  {
   "cell_type": "markdown",
   "metadata": {},
   "source": [
    "#### Selection by Position\n",
    "\n",
    "Pandas provides a suite of methods in order to get purely integer based indexing. The semantics follow closely\n",
    "python and numpy slicing. These are 0-based indexing. When slicing, the start bounds is included, while the upper\n",
    "bound is excluded. \n",
    "\n",
    "The $\\textit{.iloc}$ attribute is the primary access method."
   ]
  },
  {
   "cell_type": "code",
   "execution_count": null,
   "metadata": {},
   "outputs": [],
   "source": [
    "df1.iloc[0]   # Selects items on the 1st row\n",
    "df1.iloc[1]   # Selects items on the 2nd row\n",
    "df1.iloc[4]   # Selects items on the 5th row\n"
   ]
  },
  {
   "cell_type": "code",
   "execution_count": null,
   "metadata": {},
   "outputs": [],
   "source": [
    "# slicing data\n",
    "df1.iloc[:2]   # selects the items from the 1st to 2nd row\n",
    "df1.iloc[:3]   # Selects items from the 1st to 3rd row\n",
    "df1.iloc[2:]   # selects items from the 3rd to last row"
   ]
  },
  {
   "cell_type": "code",
   "execution_count": null,
   "metadata": {},
   "outputs": [],
   "source": [
    "# Selecting by specifying the rows and columns of the needed element\n",
    "df1.iloc[1,:]\n",
    "df1.iloc[2,1]\n",
    "df1.iloc[:,2]\n"
   ]
  },
  {
   "cell_type": "markdown",
   "metadata": {},
   "source": [
    "#### Selection by Label\n",
    "\n",
    "Pandas provides a suite of methods in order to have purely label based indexing. This is a strict inclusion based\n",
    "protocol. At least 1 of the labels for which you ask, must be in the index or a KeyError will be raised! When\n",
    "slicing, the start bound is included, AND the stop bound is included. Integers are valid labels, but they refer to the\n",
    "label and not the position.\n",
    "\n",
    "The $\\textit{.loc}$ attribute is the primary access method"
   ]
  },
  {
   "cell_type": "code",
   "execution_count": null,
   "metadata": {},
   "outputs": [],
   "source": [
    "df2.loc[0]  # Selects items on the 1st row\n",
    "df2.loc[1]   # Selects items on the 2nd row\n",
    "df2.loc[4] "
   ]
  },
  {
   "cell_type": "code",
   "execution_count": null,
   "metadata": {},
   "outputs": [],
   "source": [
    "# slicing data\n",
    "df2.loc[:2]   # selects the items from the 1st to 2nd row\n",
    "df2.loc[:3]   # Selects items from the 1st to 3rd row\n",
    "df2.loc[2:]   # selects items from the 3rd to last row"
   ]
  },
  {
   "cell_type": "code",
   "execution_count": null,
   "metadata": {},
   "outputs": [],
   "source": [
    "# Selecting by specifying the rows and columns of the needed element\n",
    "\n",
    "df2.loc[2:,['Name','Age']]\n",
    "#df2.loc[:,'School']\n"
   ]
  },
  {
   "cell_type": "markdown",
   "metadata": {},
   "source": [
    "#### Selection by Attribution \n",
    "\n",
    "You may access an index on a Series, column on a DataFrame, and an item on a Panel directly as an attribute:"
   ]
  },
  {
   "cell_type": "code",
   "execution_count": null,
   "metadata": {},
   "outputs": [],
   "source": [
    "df2.Name\n",
    "df2.Age\n",
    "df2.School\n"
   ]
  },
  {
   "cell_type": "markdown",
   "metadata": {},
   "source": [
    "### Addition and Deletion of columns\n",
    "\n",
    "Pandas provides various facilities for easily combining together Series, DataFrame, and Panel objects with various\n",
    "kinds of set logic for the indexes and relational algebra functionality in the case of join / merge-type operations.\n",
    "Addition of columns or rows (DataFrames) could be done by:\n",
    "  - Concatenating Object\n",
    "  - Append Object\n",
    "  - Merge Object"
   ]
  },
  {
   "cell_type": "markdown",
   "metadata": {},
   "source": [
    "#### Concatenating\n",
    "\n",
    "The concat function (in the main pandas namespace) does all of the heavy lifting of performing concatenation\n",
    "operations along an axis while performing optional set logic (union or intersection) of the indexes (if any) on the other\n",
    "axes. Note that I say “if any” because there is only a single possible axis of concatenation for Series."
   ]
  },
  {
   "cell_type": "code",
   "execution_count": null,
   "metadata": {},
   "outputs": [],
   "source": [
    "Test1 = pd.DataFrame({'A':[1,2,3,4,5],\n",
    "                      'B':[2,44,32,45,62]})\n",
    "Test2 = pd.DataFrame({'C':[0,12,34,2,4],\n",
    "                      'D':[23,34,55,2,6]})"
   ]
  },
  {
   "cell_type": "code",
   "execution_count": null,
   "metadata": {},
   "outputs": [],
   "source": [
    "datF = pd.concat([Test1,Test2],axis=1)"
   ]
  },
  {
   "cell_type": "code",
   "execution_count": null,
   "metadata": {},
   "outputs": [],
   "source": [
    "'''we can also make or create an new Dataframe from selected \n",
    "columns or rows from different existing DataFrames '''\n",
    "#example\n",
    "x = Test1.B\n",
    "y = Test2.D\n",
    "\n",
    "y"
   ]
  },
  {
   "cell_type": "code",
   "execution_count": null,
   "metadata": {},
   "outputs": [],
   "source": [
    "new1 = pd.concat([x,y],axis=1)\n",
    "new2 = pd.concat([x,y])\n",
    "# What is the difference between new1 and new2"
   ]
  },
  {
   "cell_type": "markdown",
   "metadata": {},
   "source": [
    "#### Append\n",
    "\n",
    "A useful shortcut to concat are the append instance methods on Series and DataFrame. These methods actually\n",
    "predated concat. They concatenate along axis=0, namely the index:"
   ]
  },
  {
   "cell_type": "code",
   "execution_count": null,
   "metadata": {},
   "outputs": [],
   "source": [
    "df3 = pd.DataFrame(np.random.randn(8, 4), columns=['A','B','C','D'])"
   ]
  },
  {
   "cell_type": "code",
   "execution_count": null,
   "metadata": {},
   "outputs": [],
   "source": [
    "s = df.iloc[3]\n",
    "df4 = df3.append(s, ignore_index=True)\n",
    "df4\n"
   ]
  },
  {
   "cell_type": "code",
   "execution_count": null,
   "metadata": {},
   "outputs": [],
   "source": [
    "df5 = Test1.append(Test2, ignore_index=True,)\n",
    "df5"
   ]
  },
  {
   "cell_type": "code",
   "execution_count": null,
   "metadata": {},
   "outputs": [],
   "source": [
    "df2\n",
    "gender = pd.DataFrame({'Gender':['Male','Female','Male','Male','Female','Female']})\n",
    "\n",
    "df6 = pd.concat([df2,gender],axis=1)\n",
    "\n"
   ]
  },
  {
   "cell_type": "code",
   "execution_count": null,
   "metadata": {},
   "outputs": [],
   "source": [
    "df6"
   ]
  },
  {
   "cell_type": "code",
   "execution_count": null,
   "metadata": {},
   "outputs": [],
   "source": [
    "df6.groupby(['Gender'])['Name'].count()\n",
    "df6.groupby(['Gender'])['Age'].mean()\n",
    "\n"
   ]
  },
  {
   "cell_type": "code",
   "execution_count": null,
   "metadata": {},
   "outputs": [],
   "source": []
  }
 ],
 "metadata": {
  "kernelspec": {
   "display_name": "Python 3",
   "language": "python",
   "name": "python3"
  },
  "language_info": {
   "codemirror_mode": {
    "name": "ipython",
    "version": 3
   },
   "file_extension": ".py",
   "mimetype": "text/x-python",
   "name": "python",
   "nbconvert_exporter": "python",
   "pygments_lexer": "ipython3",
   "version": "3.7.4"
  }
 },
 "nbformat": 4,
 "nbformat_minor": 2
}
